{
 "cells": [
  {
   "cell_type": "markdown",
   "metadata": {},
   "source": [
    "\n",
    "\n",
    "# Project: Investigate a Dataset - [TMDB_Movie_data]\n",
    "\n",
    "## Table of Contents\n",
    "<ul>\n",
    "<li><a href=\"#intro\">Introduction</a></li>\n",
    "<li><a href=\"#wrangling\">Data Wrangling</a></li>\n",
    "<li><a href=\"#eda\">Exploratory Data Analysis</a></li>\n",
    "<li><a href=\"#conclusions\">Conclusions</a></li>\n",
    "</ul>"
   ]
  },
  {
   "cell_type": "markdown",
   "metadata": {},
   "source": [
    "<a id='intro'></a>\n",
    "## Introduction\n",
    "\n",
    "### Dataset Description \n",
    "\n",
    "> The datasets is collection of the 10000 movies collected from the movies database (TMDB). The columns for the datsets includes; id, imdb_id, popularity, budget, revenue, original_title, cast, homepage, director, tagline, keywords, overview, runtime, genres, production_companies, release_date, vote_count, vote_average, release_year, budget_adj and revenue_adj.\n",
    "\n",
    "### Question(s) for Analysis\n",
    "> 1. what's the name of the directors of the top  most popular movies?\n",
    "> 3. what's the relationship between the year of release of the movie  and its popularity?\n",
    "> 4. How does the runtime of the movie affect its popularity?\n"
   ]
  },
  {
   "cell_type": "code",
   "execution_count": 1,
   "metadata": {},
   "outputs": [],
   "source": [
    "#Import of the packages\n",
    "import pandas as pd\n",
    "import numpy as np\n",
    "import matplotlib.pyplot as plt\n",
    "import seaborn as sns\n",
    "% matplotlib inline"
   ]
  },
  {
   "cell_type": "markdown",
   "metadata": {},
   "source": [
    "<a id='wrangling'></a>\n",
    "## Data Wrangling\n",
    "\n",
    "\n",
    "\n",
    "\n",
    "\n"
   ]
  },
  {
   "cell_type": "code",
   "execution_count": 2,
   "metadata": {},
   "outputs": [
    {
     "name": "stdout",
     "output_type": "stream",
     "text": [
      "       id    imdb_id  popularity     budget     revenue      original_title  \\\n",
      "0  135397  tt0369610   32.985763  150000000  1513528810      Jurassic World   \n",
      "1   76341  tt1392190   28.419936  150000000   378436354  Mad Max: Fury Road   \n",
      "2  262500  tt2908446   13.112507  110000000   295238201           Insurgent   \n",
      "\n",
      "                                                cast  \\\n",
      "0  Chris Pratt|Bryce Dallas Howard|Irrfan Khan|Vi...   \n",
      "1  Tom Hardy|Charlize Theron|Hugh Keays-Byrne|Nic...   \n",
      "2  Shailene Woodley|Theo James|Kate Winslet|Ansel...   \n",
      "\n",
      "                                         homepage          director  \\\n",
      "0                   http://www.jurassicworld.com/   Colin Trevorrow   \n",
      "1                     http://www.madmaxmovie.com/     George Miller   \n",
      "2  http://www.thedivergentseries.movie/#insurgent  Robert Schwentke   \n",
      "\n",
      "                      tagline      ...       \\\n",
      "0           The park is open.      ...        \n",
      "1          What a Lovely Day.      ...        \n",
      "2  One Choice Can Destroy You      ...        \n",
      "\n",
      "                                            overview runtime  \\\n",
      "0  Twenty-two years after the events of Jurassic ...     124   \n",
      "1  An apocalyptic story set in the furthest reach...     120   \n",
      "2  Beatrice Prior must confront her inner demons ...     119   \n",
      "\n",
      "                                      genres  \\\n",
      "0  Action|Adventure|Science Fiction|Thriller   \n",
      "1  Action|Adventure|Science Fiction|Thriller   \n",
      "2         Adventure|Science Fiction|Thriller   \n",
      "\n",
      "                                production_companies release_date vote_count  \\\n",
      "0  Universal Studios|Amblin Entertainment|Legenda...       6/9/15       5562   \n",
      "1  Village Roadshow Pictures|Kennedy Miller Produ...      5/13/15       6185   \n",
      "2  Summit Entertainment|Mandeville Films|Red Wago...      3/18/15       2480   \n",
      "\n",
      "   vote_average  release_year    budget_adj   revenue_adj  \n",
      "0           6.5          2015  1.379999e+08  1.392446e+09  \n",
      "1           7.1          2015  1.379999e+08  3.481613e+08  \n",
      "2           6.3          2015  1.012000e+08  2.716190e+08  \n",
      "\n",
      "[3 rows x 21 columns]\n"
     ]
    }
   ],
   "source": [
    "#Use a function to load the data \n",
    "dataset= 'tmdb-movies.csv'\n",
    "def read(data):\n",
    "    return pd.read_csv(data)\n",
    "df=read(dataset)\n",
    "\n",
    "print(df.head(3))"
   ]
  },
  {
   "cell_type": "markdown",
   "metadata": {},
   "source": [
    "\n",
    "### Data Cleaning\n"
   ]
  },
  {
   "cell_type": "code",
   "execution_count": 3,
   "metadata": {},
   "outputs": [
    {
     "data": {
      "text/plain": [
       "(10866, 21)"
      ]
     },
     "execution_count": 3,
     "metadata": {},
     "output_type": "execute_result"
    }
   ],
   "source": [
    "#check the number of columns and rows in the data\n",
    "df.shape\n"
   ]
  },
  {
   "cell_type": "markdown",
   "metadata": {},
   "source": [
    "The dataset has 10866  rows and 21 columns."
   ]
  },
  {
   "cell_type": "code",
   "execution_count": 4,
   "metadata": {},
   "outputs": [
    {
     "name": "stdout",
     "output_type": "stream",
     "text": [
      "                  id    popularity        budget       revenue       runtime  \\\n",
      "count   10866.000000  10866.000000  1.086600e+04  1.086600e+04  10866.000000   \n",
      "mean    66064.177434      0.646441  1.462570e+07  3.982332e+07    102.070863   \n",
      "std     92130.136561      1.000185  3.091321e+07  1.170035e+08     31.381405   \n",
      "min         5.000000      0.000065  0.000000e+00  0.000000e+00      0.000000   \n",
      "25%     10596.250000      0.207583  0.000000e+00  0.000000e+00     90.000000   \n",
      "50%     20669.000000      0.383856  0.000000e+00  0.000000e+00     99.000000   \n",
      "75%     75610.000000      0.713817  1.500000e+07  2.400000e+07    111.000000   \n",
      "max    417859.000000     32.985763  4.250000e+08  2.781506e+09    900.000000   \n",
      "\n",
      "         vote_count  vote_average  release_year    budget_adj   revenue_adj  \n",
      "count  10866.000000  10866.000000  10866.000000  1.086600e+04  1.086600e+04  \n",
      "mean     217.389748      5.974922   2001.322658  1.755104e+07  5.136436e+07  \n",
      "std      575.619058      0.935142     12.812941  3.430616e+07  1.446325e+08  \n",
      "min       10.000000      1.500000   1960.000000  0.000000e+00  0.000000e+00  \n",
      "25%       17.000000      5.400000   1995.000000  0.000000e+00  0.000000e+00  \n",
      "50%       38.000000      6.000000   2006.000000  0.000000e+00  0.000000e+00  \n",
      "75%      145.750000      6.600000   2011.000000  2.085325e+07  3.369710e+07  \n",
      "max     9767.000000      9.200000   2015.000000  4.250000e+08  2.827124e+09  \n"
     ]
    }
   ],
   "source": [
    "#Summary statistics of the data\n",
    "print(df.describe())"
   ]
  },
  {
   "cell_type": "markdown",
   "metadata": {},
   "source": [
    "The summary statistics above displays the summary statistics such as mean, standard deviation, min, nax and percentiles of the numerical columns of the dataset."
   ]
  },
  {
   "cell_type": "code",
   "execution_count": 5,
   "metadata": {},
   "outputs": [],
   "source": [
    "#Drop un neccessary columns\n",
    "df.drop(['id',  'budget', 'revenue', 'original_title',\n",
    "       'cast', 'homepage',  'tagline', 'keywords', 'overview',\n",
    "        'production_companies', 'release_date',\n",
    "       'vote_count', 'vote_average', 'budget_adj',\n",
    "       'revenue_adj'], axis=1, inplace=True)"
   ]
  },
  {
   "cell_type": "markdown",
   "metadata": {},
   "source": [
    "The columns above are dropped since they will not take part in the analysis."
   ]
  },
  {
   "cell_type": "code",
   "execution_count": 6,
   "metadata": {},
   "outputs": [
    {
     "name": "stdout",
     "output_type": "stream",
     "text": [
      "     imdb_id  popularity         director  runtime  \\\n",
      "0  tt0369610   32.985763  Colin Trevorrow      124   \n",
      "1  tt1392190   28.419936    George Miller      120   \n",
      "\n",
      "                                      genres  release_year  \n",
      "0  Action|Adventure|Science Fiction|Thriller          2015  \n",
      "1  Action|Adventure|Science Fiction|Thriller          2015  \n"
     ]
    }
   ],
   "source": [
    "#print the two rows of the dataset again\n",
    "print(df.head(2))"
   ]
  },
  {
   "cell_type": "code",
   "execution_count": 7,
   "metadata": {},
   "outputs": [
    {
     "data": {
      "text/plain": [
       "10"
      ]
     },
     "execution_count": 7,
     "metadata": {},
     "output_type": "execute_result"
    }
   ],
   "source": [
    "#Check for the dupicates in the dataset\n",
    "df['imdb_id'].duplicated().sum()"
   ]
  },
  {
   "cell_type": "markdown",
   "metadata": {},
   "source": [
    "The number of duplicate record in the dataset are 10 records."
   ]
  },
  {
   "cell_type": "code",
   "execution_count": 8,
   "metadata": {},
   "outputs": [],
   "source": [
    "#Drop the duplicate records in the duplicate records in the dataset\n",
    "df.drop_duplicates(inplace=True)\n"
   ]
  },
  {
   "cell_type": "markdown",
   "metadata": {},
   "source": [
    "All the duplicates records in the data set are dropped, since when they are left they might cause noise in the datasets"
   ]
  },
  {
   "cell_type": "code",
   "execution_count": 9,
   "metadata": {},
   "outputs": [],
   "source": [
    "#Drop the imdb_id   column\n",
    "df.drop(['imdb_id'], axis=1, inplace=True)"
   ]
  },
  {
   "cell_type": "markdown",
   "metadata": {},
   "source": [
    "The imdb_id column is dropped, since it has served it's purpose of helping in the checking of the duplicates in the data, hence it's dropped since it's no longer needed further in the data analysis."
   ]
  },
  {
   "cell_type": "code",
   "execution_count": 10,
   "metadata": {},
   "outputs": [
    {
     "name": "stdout",
     "output_type": "stream",
     "text": [
      "<class 'pandas.core.frame.DataFrame'>\n",
      "Int64Index: 10865 entries, 0 to 10865\n",
      "Data columns (total 5 columns):\n",
      "popularity      10865 non-null float64\n",
      "director        10821 non-null object\n",
      "runtime         10865 non-null int64\n",
      "genres          10842 non-null object\n",
      "release_year    10865 non-null int64\n",
      "dtypes: float64(1), int64(2), object(2)\n",
      "memory usage: 509.3+ KB\n"
     ]
    }
   ],
   "source": [
    "#Check the missing values in the dataset\n",
    "df.info()"
   ]
  },
  {
   "cell_type": "markdown",
   "metadata": {},
   "source": [
    "The genres and director column  has some  of its values missing."
   ]
  },
  {
   "cell_type": "code",
   "execution_count": 11,
   "metadata": {},
   "outputs": [],
   "source": [
    "#Dealing with the missing values, by replacing it with the previous value in the column of the dataset.\n",
    "df.fillna(method='ffill', inplace=True)\n"
   ]
  },
  {
   "cell_type": "markdown",
   "metadata": {},
   "source": [
    "The missing values in the genres and director columns is replaced with the previous values in the column since its values are strings. Hence other form of replacing the missing values such as using the mean, mode etc were not appropriate for the task."
   ]
  },
  {
   "cell_type": "code",
   "execution_count": 12,
   "metadata": {},
   "outputs": [
    {
     "name": "stdout",
     "output_type": "stream",
     "text": [
      "<class 'pandas.core.frame.DataFrame'>\n",
      "Int64Index: 10865 entries, 0 to 10865\n",
      "Data columns (total 5 columns):\n",
      "popularity      10865 non-null float64\n",
      "director        10865 non-null object\n",
      "runtime         10865 non-null int64\n",
      "genres          10865 non-null object\n",
      "release_year    10865 non-null int64\n",
      "dtypes: float64(1), int64(2), object(2)\n",
      "memory usage: 509.3+ KB\n"
     ]
    }
   ],
   "source": [
    "#confirm if the the missing values have been replaced in the dataset.\n",
    "df.info()"
   ]
  },
  {
   "cell_type": "markdown",
   "metadata": {},
   "source": [
    "All the missing values in the dataset have been replaced. The data is now complete with no any missing value. "
   ]
  },
  {
   "cell_type": "markdown",
   "metadata": {},
   "source": [
    "### Research Question 1 (The name of the directors of the top ten most popular movies?)"
   ]
  },
  {
   "cell_type": "code",
   "execution_count": 13,
   "metadata": {},
   "outputs": [
    {
     "data": {
      "image/png": "[encoded data removed]",
      "text/plain": [
       "<matplotlib.figure.Figure at 0x7f50e4faa198>"
      ]
     },
     "metadata": {
      "needs_background": "light"
     },
     "output_type": "display_data"
    }
   ],
   "source": [
    "#The distribution of popularity\n",
    "df['popularity'].hist();\n",
    "plt.title('Popularity histogram')\n",
    "plt.ylabel('number of movies')\n",
    "plt.xlabel('% popularity')\n",
    "plt.show()"
   ]
  },
  {
   "cell_type": "markdown",
   "metadata": {},
   "source": [
    "The distribution of the movies popularity is slightly skewed to the right. This is because from the histogram displayed above the right tail is slightly longer than the left tail."
   ]
  },
  {
   "cell_type": "code",
   "execution_count": 14,
   "metadata": {},
   "outputs": [
    {
     "data": {
      "text/plain": [
       "Woody Allen                                  45\n",
       "Clint Eastwood                               34\n",
       "Steven Spielberg                             29\n",
       "Martin Scorsese                              29\n",
       "Ridley Scott                                 23\n",
       "Ron Howard                                   22\n",
       "Steven Soderbergh                            22\n",
       "Joel Schumacher                              21\n",
       "Brian De Palma                               20\n",
       "Barry Levinson                               19\n",
       "Wes Craven                                   19\n",
       "Tim Burton                                   19\n",
       "Mike Nichols                                 18\n",
       "David Cronenberg                             18\n",
       "John Carpenter                               18\n",
       "Rob Reiner                                   18\n",
       "Stephen Frears                               17\n",
       "Robert Zemeckis                              17\n",
       "Francis Ford Coppola                         17\n",
       "Oliver Stone                                 17\n",
       "Tyler Perry                                  17\n",
       "Sidney Lumet                                 17\n",
       "Renny Harlin                                 17\n",
       "Walter Hill                                  17\n",
       "Norman Jewison                               17\n",
       "Peter Hyams                                  17\n",
       "Spike Lee                                    17\n",
       "Tony Scott                                   16\n",
       "Uwe Boll                                     16\n",
       "John Landis                                  16\n",
       "                                             ..\n",
       "Anders Anderson                               1\n",
       "Brian Miller                                  1\n",
       "Yahoo Serious                                 1\n",
       "Elizabeth Banks                               1\n",
       "Jorge RamÃ­rez SuÃ¡rez                        1\n",
       "Jeff Abugov                                   1\n",
       "Jacob Vaughan                                 1\n",
       "K. Asher Levin                                1\n",
       "Dylan Kidd                                    1\n",
       "Stephen Chbosky                               1\n",
       "Harold P. Warren                              1\n",
       "Dorian Walker                                 1\n",
       "Robert Young                                  1\n",
       "Martin Hynes                                  1\n",
       "Tarik Saleh                                   1\n",
       "Dylan Baker                                   1\n",
       "Morgan Matthews                               1\n",
       "Christopher Kenneally                         1\n",
       "Bruno Solo|Yvan Le Bolloc'h                   1\n",
       "Vladimir Grammatikov                          1\n",
       "Alison Murray                                 1\n",
       "Jordan Downey                                 1\n",
       "Yorgos Lanthimos                              1\n",
       "Rick Jacobson                                 1\n",
       "Mike Phillips                                 1\n",
       "Steve Martino                                 1\n",
       "John Kalangis                                 1\n",
       "Andrew Adamson|Kelly Asbury|Conrad Vernon     1\n",
       "Jean-Xavier de Lestrade                       1\n",
       "Lisanne Pajot|James Swirsky                   1\n",
       "Name: director, Length: 5067, dtype: int64"
      ]
     },
     "execution_count": 14,
     "metadata": {},
     "output_type": "execute_result"
    }
   ],
   "source": [
    "#The number of movies directed by a director\n",
    "df['director'].value_counts(ascending=False)"
   ]
  },
  {
   "cell_type": "markdown",
   "metadata": {},
   "source": [
    "The top five name of directors to direct the most number of movies from the dataset are;\n",
    "1. Woody Allen(directed 45 movies)\n",
    "2. Clint Eastwood(34 movies)\n",
    "3. Martin Scorsese (29 movies)\n",
    "4. Steven Spielberg (29 movies)\n",
    "5. Ridley scott (23 movies)"
   ]
  },
  {
   "cell_type": "code",
   "execution_count": 15,
   "metadata": {},
   "outputs": [
    {
     "data": {
      "text/plain": [
       "32.985762999999999"
      ]
     },
     "execution_count": 15,
     "metadata": {},
     "output_type": "execute_result"
    }
   ],
   "source": [
    "#The most popular movie\n",
    "df['popularity'].max()"
   ]
  },
  {
   "cell_type": "markdown",
   "metadata": {},
   "source": [
    "The movie with the most popularity is 32.985763 percent."
   ]
  },
  {
   "cell_type": "code",
   "execution_count": 16,
   "metadata": {},
   "outputs": [
    {
     "data": {
      "text/html": [
       "<div>\n",
       "<style scoped>\n",
       "    .dataframe tbody tr th:only-of-type {\n",
       "        vertical-align: middle;\n",
       "    }\n",
       "\n",
       "    .dataframe tbody tr th {\n",
       "        vertical-align: top;\n",
       "    }\n",
       "\n",
       "    .dataframe thead th {\n",
       "        text-align: right;\n",
       "    }\n",
       "</style>\n",
       "<table border=\"1\" class=\"dataframe\">\n",
       "  <thead>\n",
       "    <tr style=\"text-align: right;\">\n",
       "      <th></th>\n",
       "      <th>popularity</th>\n",
       "      <th>director</th>\n",
       "      <th>runtime</th>\n",
       "      <th>genres</th>\n",
       "      <th>release_year</th>\n",
       "    </tr>\n",
       "  </thead>\n",
       "  <tbody>\n",
       "    <tr>\n",
       "      <th>0</th>\n",
       "      <td>32.985763</td>\n",
       "      <td>Colin Trevorrow</td>\n",
       "      <td>124</td>\n",
       "      <td>Action|Adventure|Science Fiction|Thriller</td>\n",
       "      <td>2015</td>\n",
       "    </tr>\n",
       "  </tbody>\n",
       "</table>\n",
       "</div>"
      ],
      "text/plain": [
       "   popularity         director  runtime  \\\n",
       "0   32.985763  Colin Trevorrow      124   \n",
       "\n",
       "                                      genres  release_year  \n",
       "0  Action|Adventure|Science Fiction|Thriller          2015  "
      ]
     },
     "execution_count": 16,
     "metadata": {},
     "output_type": "execute_result"
    }
   ],
   "source": [
    "#Use query function to get the name of the director of the movie with most popularity\n",
    "df.query('popularity== 32.985763')"
   ]
  },
  {
   "cell_type": "markdown",
   "metadata": {},
   "source": [
    "The name of the director of the most popular movie is Colin Trevorrow."
   ]
  },
  {
   "cell_type": "markdown",
   "metadata": {},
   "source": [
    "### Research Question 2  (the relationship between the year of release of the movie  and its popularity)"
   ]
  },
  {
   "cell_type": "code",
   "execution_count": 17,
   "metadata": {},
   "outputs": [
    {
     "data": {
      "image/png": "[encoded data removed]",
      "text/plain": [
       "<matplotlib.figure.Figure at 0x7f50e60ee160>"
      ]
     },
     "metadata": {
      "needs_background": "light"
     },
     "output_type": "display_data"
    }
   ],
   "source": [
    "#The distribution of the year of release of the movie\n",
    "df['release_year'].hist()\n",
    "plt.title('year of release histogram')\n",
    "plt.ylabel('number of movies')\n",
    "plt.xlabel('years')\n",
    "plt.show()"
   ]
  },
  {
   "cell_type": "markdown",
   "metadata": {},
   "source": [
    "The year of release of the movie is skewed to left. these is because as the popularity of the movie of the latest years are high compared to the movie of past years."
   ]
  },
  {
   "cell_type": "code",
   "execution_count": 18,
   "metadata": {},
   "outputs": [],
   "source": [
    "#Define the function to plot the scatter plot\n",
    "def cor(col1,col2,d):\n",
    "  ans = sns.regplot(x = col1, y = col2, data = df, scatter_kws = {\"color\": \"blue\"}, line_kws = {\"color\": \"black\"})\n",
    "  return ans\n"
   ]
  },
  {
   "cell_type": "code",
   "execution_count": 19,
   "metadata": {},
   "outputs": [
    {
     "name": "stdout",
     "output_type": "stream",
     "text": [
      "AxesSubplot(0.125,0.125;0.775x0.755)\n"
     ]
    },
    {
     "data": {
      "image/png": "[encoded data removed]",
      "text/plain": [
       "<matplotlib.figure.Figure at 0x7f50e60dfef0>"
      ]
     },
     "metadata": {
      "needs_background": "light"
     },
     "output_type": "display_data"
    }
   ],
   "source": [
    "#Recall the function above to plot the scatter plot of the release year vs the popularity of the movies\n",
    "\n",
    "print(cor(\"release_year\", \"popularity\", df))\n",
    "plt.title('Release year vs Popularity');\n"
   ]
  },
  {
   "cell_type": "markdown",
   "metadata": {},
   "source": [
    " The popularity of the movie and year of release of the movie are positively correlated. These implies the popularity of the movie increases as the number of years of the movie increases."
   ]
  },
  {
   "cell_type": "markdown",
   "metadata": {},
   "source": [
    "### Research question 3 (How does the runtime of the movie affect its popularity?)"
   ]
  },
  {
   "cell_type": "code",
   "execution_count": 20,
   "metadata": {},
   "outputs": [
    {
     "data": {
      "image/png": "[encoded data removed]",
      "text/plain": [
       "<matplotlib.figure.Figure at 0x7f50e710cc88>"
      ]
     },
     "metadata": {
      "needs_background": "light"
     },
     "output_type": "display_data"
    }
   ],
   "source": [
    "#The distribution of the run time of the movie\n",
    "df['runtime'].hist()\n",
    "plt.title('Runtime histogram')\n",
    "plt.ylabel('no of movies')\n",
    "plt.xlabel('runtime')\n",
    "plt.show()\n"
   ]
  },
  {
   "cell_type": "markdown",
   "metadata": {},
   "source": [
    "The distribution of the movie is slightly skewed to the right."
   ]
  },
  {
   "cell_type": "code",
   "execution_count": 21,
   "metadata": {},
   "outputs": [
    {
     "name": "stdout",
     "output_type": "stream",
     "text": [
      "AxesSubplot(0.125,0.125;0.775x0.755)\n"
     ]
    },
    {
     "data": {
      "image/png": "[encoded data removed]",
      "text/plain": [
       "<matplotlib.figure.Figure at 0x7f51000ab390>"
      ]
     },
     "metadata": {
      "needs_background": "light"
     },
     "output_type": "display_data"
    }
   ],
   "source": [
    "#The relationship between the run time of the movie and its runtime\n",
    "#Recall the python function define earlier to plot the scatter plot of runtime vs popularity\n",
    "print(cor(\"runtime\", \"popularity\", df))\n",
    "plt.title('popularity');\n"
   ]
  },
  {
   "cell_type": "raw",
   "metadata": {},
   "source": []
  },
  {
   "cell_type": "markdown",
   "metadata": {},
   "source": [
    "The popularity of the movie and run time of the movie are related positively."
   ]
  },
  {
   "cell_type": "markdown",
   "metadata": {},
   "source": [
    "<a id='conclusions'></a>\n",
    "## Conclusions\n",
    ">The findings and results from the above analysis is as follows:\n",
    ">1. The name of the director of the movie with most popularity is Colin Trevorrow. The genre of the movies is Action|Adventure|Science Fiction|Thriller and its release year is 2015.\n",
    "\n",
    ">2. The relationship between popularity and year of release of the movie is positve relationship. These implies that the movies released in the recent years are more popular than the movies released some years before, since the popularity of the movie increases as the number of years increases.\n",
    "\n",
    ">3. The realationship between the run time of the movie and movie popularity is a positive realtionship, these implies that the movies with more run time are more popular compared to movies with less run time.\n",
    "\n",
    "\n",
    "### Limitation\n",
    "> 1. The dataset was to huge, which makes abit challenging to preview the data after loading it into pandas dataframe.\n",
    "> 2. The missing values in the columns of director and genres, pose a big challenge in deciding on how to deal with them with\n",
    "without changing the meaning of the data in the above two columns.\n",
    "\n",
    "\n",
    "\n",
    "\n"
   ]
  },
  {
   "cell_type": "code",
   "execution_count": null,
   "metadata": {},
   "outputs": [],
   "source": []
  }
 ],
 "metadata": {
  "kernelspec": {
   "display_name": "Python 3",
   "language": "python",
   "name": "python3"
  },
  "language_info": {
   "codemirror_mode": {
    "name": "ipython",
    "version": 3
   },
   "file_extension": ".py",
   "mimetype": "text/x-python",
   "name": "python",
   "nbconvert_exporter": "python",
   "pygments_lexer": "ipython3",
   "version": "3.6.3"
  }
 },
 "nbformat": 4,
 "nbformat_minor": 2
}
